{
 "cells": [
  {
   "cell_type": "code",
   "execution_count": 1,
   "id": "29b76932",
   "metadata": {},
   "outputs": [
    {
     "name": "stdout",
     "output_type": "stream",
     "text": [
      "D:\\datasets\\stanford_car_raw\n"
     ]
    }
   ],
   "source": [
    "cd \".\\stanford_car_raw\""
   ]
  },
  {
   "cell_type": "code",
   "execution_count": 2,
   "id": "9a0d0397",
   "metadata": {},
   "outputs": [],
   "source": [
    "import scipy\n",
    "import os\n",
    "import numpy as np"
   ]
  },
  {
   "cell_type": "code",
   "execution_count": 3,
   "id": "3cbd518b",
   "metadata": {},
   "outputs": [],
   "source": [
    "train_anno = r\".\\stanford_car_raw\\cars_train_annos.mat\""
   ]
  },
  {
   "cell_type": "code",
   "execution_count": 4,
   "id": "b400e2eb",
   "metadata": {},
   "outputs": [],
   "source": [
    "test_anno = r\".\\stanford_car_raw\\cars_test_annos_withlabels.mat\""
   ]
  },
  {
   "cell_type": "code",
   "execution_count": 5,
   "id": "8e5964c2",
   "metadata": {},
   "outputs": [],
   "source": [
    "overall_anno = r\".\\stanford_car_raw\\cars_annos.mat\""
   ]
  },
  {
   "cell_type": "code",
   "execution_count": 6,
   "id": "110c6d7e",
   "metadata": {},
   "outputs": [],
   "source": [
    "test_anno = scipy.io.loadmat(test_anno)\n",
    "train_anno = scipy.io.loadmat(train_anno)"
   ]
  },
  {
   "cell_type": "code",
   "execution_count": 7,
   "id": "c10525c6",
   "metadata": {},
   "outputs": [],
   "source": [
    "data_anno = scipy.io.loadmat(overall_anno)"
   ]
  },
  {
   "cell_type": "code",
   "execution_count": 8,
   "id": "1e054fbf",
   "metadata": {},
   "outputs": [],
   "source": [
    "test_anno_content = test_anno['annotations']\n",
    "train_anno_content = train_anno['annotations']\n",
    "class_name = data_anno['class_names'][0]"
   ]
  },
  {
   "cell_type": "code",
   "execution_count": 9,
   "id": "000e7b13",
   "metadata": {},
   "outputs": [],
   "source": [
    "class_name[173] = 'Ram CV Cargo Van Minivan 2012'"
   ]
  },
  {
   "cell_type": "code",
   "execution_count": 41,
   "id": "2905c68e",
   "metadata": {},
   "outputs": [
    {
     "data": {
      "text/plain": [
       "array(['Rolls-Royce Phantom Drophead Coupe Convertible 2012'],\n",
       "      dtype='<U51')"
      ]
     },
     "execution_count": 41,
     "metadata": {},
     "output_type": "execute_result"
    }
   ],
   "source": [
    "class_name[174]"
   ]
  },
  {
   "cell_type": "code",
   "execution_count": 35,
   "id": "d2922e16",
   "metadata": {},
   "outputs": [
    {
     "data": {
      "text/plain": [
       "(array([[10]], dtype=uint8), array([[55]], dtype=uint8), array([[540]], dtype=uint16), array([[271]], dtype=uint16), array([[8]], dtype=uint8), array(['00081.jpg'], dtype='<U9'))"
      ]
     },
     "execution_count": 35,
     "metadata": {},
     "output_type": "execute_result"
    }
   ],
   "source": [
    "train_anno_content[0][80]"
   ]
  },
  {
   "cell_type": "code",
   "execution_count": 36,
   "id": "16cb7bab",
   "metadata": {},
   "outputs": [],
   "source": [
    "root = r\".\\stanford_car_cropped\\train_cropped\"\n",
    "source = r\".\\stanford_car_raw\\cars_train\\cars_train\""
   ]
  },
  {
   "cell_type": "code",
   "execution_count": 12,
   "id": "57a30ad6",
   "metadata": {},
   "outputs": [],
   "source": [
    "from PIL import Image \n",
    "from tqdm import tqdm"
   ]
  },
  {
   "cell_type": "code",
   "execution_count": 38,
   "id": "055da18b",
   "metadata": {},
   "outputs": [],
   "source": [
    "idx = set()\n",
    "for i in train_anno_content[0]:\n",
    "    x1, y1, x2, y2, clas, fname = i\n",
    "    cls_idx = clas[0][0]\n",
    "    idx.add(cls_idx)"
   ]
  },
  {
   "cell_type": "code",
   "execution_count": 39,
   "id": "fc625e46",
   "metadata": {},
   "outputs": [],
   "source": [
    "for i in train_anno_content[0]:\n",
    "    x1, y1, x2, y2, clas, fname = i\n",
    "    cls_idx = clas[0][0]\n",
    "    clas_name = class_name[cls_idx-1][0]\n",
    "    #create class folder\n",
    "    clas_file = str(cls_idx) +'_'+clas_name\n",
    "    doc_root = os.path.join(root, clas_file)\n",
    "    if not os.path.exists(doc_root):\n",
    "        os.makedirs(doc_root)\n",
    "    img_src = os.path.join(source, fname[0])\n",
    "    #print(img_src)\n",
    "    img = Image.open(img_src)\n",
    "    im_cr = img.crop((x1[0][0], y1[0][0], x2[0][0], y2[0][0])).resize((448, 448))\n",
    "    image_root = os.path.join(doc_root, fname[0])\n",
    "    im_cr.save(image_root)\n",
    "    #break"
   ]
  },
  {
   "cell_type": "code",
   "execution_count": 13,
   "id": "abd5b118",
   "metadata": {},
   "outputs": [],
   "source": [
    "root = r\".\\stanford_car_cropped\\test_cropped\"\n",
    "source = r\".\\stanford_car_raw\\cars_test\\cars_test\""
   ]
  },
  {
   "cell_type": "code",
   "execution_count": 14,
   "id": "33b252ea",
   "metadata": {},
   "outputs": [
    {
     "name": "stderr",
     "output_type": "stream",
     "text": [
      "100%|██████████| 8041/8041 [01:42<00:00, 78.43it/s] \n"
     ]
    }
   ],
   "source": [
    "for i in tqdm(range(len(test_anno_content[0]))):\n",
    "    content = test_anno_content[0][i]\n",
    "    x1, y1, x2, y2, clas, fname = content\n",
    "    cls_idx = clas[0][0]\n",
    "    clas_name = class_name[cls_idx-1][0]\n",
    "    #create class folder\n",
    "    clas_file = str(cls_idx) +'_'+clas_name\n",
    "    doc_root = os.path.join(root, clas_file)\n",
    "    if not os.path.exists(doc_root):\n",
    "        os.makedirs(doc_root)\n",
    "    img_src = os.path.join(source, fname[0])\n",
    "    #print(img_src)\n",
    "    img = Image.open(img_src)\n",
    "    im_cr = img.crop((x1[0][0], y1[0][0], x2[0][0], y2[0][0])).resize((448, 448))\n",
    "    image_root = os.path.join(doc_root, fname[0])\n",
    "    im_cr.save(image_root)\n",
    "    #break"
   ]
  },
  {
   "cell_type": "code",
   "execution_count": 24,
   "id": "94a94da6",
   "metadata": {},
   "outputs": [
    {
     "data": {
      "text/plain": [
       "array(['Ram C/V Cargo Van Minivan 2012'], dtype='<U30')"
      ]
     },
     "execution_count": 24,
     "metadata": {},
     "output_type": "execute_result"
    }
   ],
   "source": [
    "class_name[173]"
   ]
  },
  {
   "cell_type": "code",
   "execution_count": 79,
   "id": "3ed11d2b",
   "metadata": {},
   "outputs": [
    {
     "data": {
      "text/plain": [
       "(array([[30]], dtype=uint8), array([[52]], dtype=uint8), array([[246]], dtype=uint8), array([[147]], dtype=uint8), array([[181]], dtype=uint8), array(['00001.jpg'], dtype='<U9'))"
      ]
     },
     "execution_count": 79,
     "metadata": {},
     "output_type": "execute_result"
    }
   ],
   "source": [
    "content"
   ]
  }
 ],
 "metadata": {
  "kernelspec": {
   "display_name": "Python 3 (ipykernel)",
   "language": "python",
   "name": "python3"
  },
  "language_info": {
   "codemirror_mode": {
    "name": "ipython",
    "version": 3
   },
   "file_extension": ".py",
   "mimetype": "text/x-python",
   "name": "python",
   "nbconvert_exporter": "python",
   "pygments_lexer": "ipython3",
   "version": "3.9.17"
  }
 },
 "nbformat": 4,
 "nbformat_minor": 5
}
