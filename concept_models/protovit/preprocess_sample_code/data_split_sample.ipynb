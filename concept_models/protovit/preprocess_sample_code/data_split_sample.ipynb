{
 "cells": [
  {
   "cell_type": "code",
   "execution_count": null,
   "id": "e3dfed37",
   "metadata": {},
   "outputs": [
    {
     "ename": "",
     "evalue": "",
     "output_type": "error",
     "traceback": [
      "\u001b[1;31mRunning cells with 'ProtoViT (Python 3.8.20)' requires the ipykernel package.\n",
      "\u001b[1;31m<a href='command:jupyter.createPythonEnvAndSelectController'>Create a Python Environment</a> with the required packages."
     ]
    }
   ],
   "source": [
    "import torch \n",
    "import os \n",
    "import matplotlib.pyplot as plt \n",
    "import shutil\n",
    "from tqdm import tqdm\n",
    "from PIL import Image "
   ]
  },
  {
   "cell_type": "code",
   "execution_count": null,
   "id": "ea9876f3",
   "metadata": {},
   "outputs": [],
   "source": [
    "data_path = r\"/data/yang/benchmark/data/CUB\"\n",
    "index_loc = os.path.join(data_path, \"CUB_200_2011\", \"images.txt\")\n",
    "index_dict = open(index_loc, 'r')\n",
    "index = {}\n",
    "\n",
    "img_loc = os.path.join(data_path, \"CUB_200_2011\", \"images\")\n",
    "\n",
    "for line in index_dict.readlines():\n",
    "    word = line.split()\n",
    "    key = int(word[0])\n",
    "    image_address = os.path.join(img_loc, word[1])\n",
    "    index[key] = image_address"
   ]
  },
  {
   "cell_type": "code",
   "execution_count": null,
   "id": "cd833ee1",
   "metadata": {},
   "outputs": [],
   "source": [
    "label_loc = os.path.join(data_path, \"CUB_200_2011\", \"image_class_labels.txt\")\n",
    "label_dict = {}\n",
    "for line in open(label_loc, 'r').readlines():\n",
    "    word = line.split()\n",
    "    key = int(word[0])\n",
    "    label_dict[key] = int(word[1])"
   ]
  },
  {
   "cell_type": "code",
   "execution_count": null,
   "id": "74753358",
   "metadata": {},
   "outputs": [],
   "source": [
    "class_ref = {}\n",
    "ref_loc = os.path.join(data_path, \"CUB_200_2011\", \"classes.txt\")\n",
    "for line in open(ref_loc, 'r').readlines():\n",
    "    word = line.split()\n",
    "    key = int(word[0])\n",
    "    class_ref[key] = word[1]"
   ]
  },
  {
   "cell_type": "code",
   "execution_count": null,
   "id": "f2541170",
   "metadata": {},
   "outputs": [],
   "source": [
    "split_loc = os.path.join(data_path, \"CUB_200_2011\", \"train_test_split.txt\")\n",
    "train_dict = {}\n",
    "for line in open(split_loc, 'r').readlines():\n",
    "    word = line.split()\n",
    "    key = int(word[0])\n",
    "    train_dict[key] = int(word[1])"
   ]
  },
  {
   "cell_type": "code",
   "execution_count": null,
   "id": "67b4bed3",
   "metadata": {},
   "outputs": [],
   "source": [
    "for i in tqdm(index):\n",
    "    root = index[i]\n",
    "    img = Image.open(root)\n",
    "    name = index[i].split('/')[-1]\n",
    "    label = label_dict[i]\n",
    "    train = train_dict[i]\n",
    "    reference = class_ref[label].replace('.','_')\n",
    "    if train ==0:\n",
    "        file_name =r\"./data/yang/benchmark/data/CUB_2011_200_uncropped/train\"\n",
    "    elif train ==1:\n",
    "        file_name = r\"/data/yang/benchmark/data/CUB_2011_200_uncropped/test\"\n",
    "    doc_root = os.path.join(file_name,reference)\n",
    "    if not os.path.exists(doc_root):\n",
    "        os.makedirs(doc_root)\n",
    "    image_root = os.path.join(doc_root, name)\n",
    "    img.save(image_root)"
   ]
  },
  {
   "cell_type": "code",
   "execution_count": null,
   "id": "b65baf25",
   "metadata": {},
   "outputs": [],
   "source": [
    "index[i].split('/')[-1]"
   ]
  }
 ],
 "metadata": {
  "kernelspec": {
   "display_name": "ProtoViT",
   "language": "python",
   "name": "python3"
  },
  "language_info": {
   "codemirror_mode": {
    "name": "ipython",
    "version": 3
   },
   "file_extension": ".py",
   "mimetype": "text/x-python",
   "name": "python",
   "nbconvert_exporter": "python",
   "pygments_lexer": "ipython3",
   "version": "3.8.20"
  }
 },
 "nbformat": 4,
 "nbformat_minor": 5
}
